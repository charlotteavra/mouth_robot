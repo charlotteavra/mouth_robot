{
 "cells": [
  {
   "cell_type": "markdown",
   "metadata": {},
   "source": [
    "### Learning Human-Like Tonal Inflections for Humanoid Robotics  \n",
    "Model architecture adpated from [https://github.com/adhishthite/sound-mnist](https://github.com/adhishthite/sound-mnist)\n",
    "\n",
    "Mandarin Tone processing adapted from [https://github.com/alicex2020/Mandarin-Tone-Classification](https://github.com/alicex2020/Mandarin-Tone-Classification)"
   ]
  },
  {
   "cell_type": "markdown",
   "metadata": {},
   "source": [
    "## **Import Packages**"
   ]
  },
  {
   "cell_type": "code",
   "execution_count": 1,
   "metadata": {},
   "outputs": [],
   "source": [
    "import numpy as np \n",
    "import matplotlib\n",
    "import math\n",
    "import os\n",
    "from matplotlib import pyplot as plt\n",
    "import matplotlib.cm as cm\n",
    "import IPython.display as ipd\n",
    "import keras\n",
    "import librosa\n",
    "import librosa.display\n",
    "#!pip install natsort\n",
    "from natsort import os_sorted\n",
    "from pydub import AudioSegment\n",
    "\n",
    "import warnings\n",
    "warnings.filterwarnings('ignore')"
   ]
  },
  {
   "cell_type": "markdown",
   "metadata": {},
   "source": [
    "## **Load Train and Test Data**\n",
    "Human audio files sourced from Tone Perfect: [https://tone.lib.msu.edu/](https://tone.lib.msu.edu/)"
   ]
  },
  {
   "cell_type": "code",
   "execution_count": 86,
   "metadata": {
    "id": "Z_Y5KBe7ZCsC"
   },
   "outputs": [],
   "source": [
    "file_path1 = 'C:/Users/charl/OneDrive/Desktop/CMU Sem. 01/ML/Project/Tone Perfect/tone_perfect'\n",
    "file_path2 = 'C:/Users/charl/OneDrive/Desktop/CMU Sem. 01/ML/Project/Tone Perfect/tone_robot_new/NewRobotLong'\n",
    "\n",
    "def mp3tomfcc(file_path, max_pad=60):\n",
    "  \"\"\" \n",
    "  Human voice audio files are in .mp3 form \n",
    "  1. Load files with librosa\n",
    "  2. Compute MFCC\n",
    "  3. Pad MFCC  \n",
    "  \"\"\"  \n",
    "  audio, sample_rate = librosa.core.load(file_path) # returns audio time series and sampling rate \n",
    "  mfcc = librosa.feature.mfcc(y=audio, sr=sample_rate, n_mfcc=60)\n",
    "  pad_width = max_pad - mfcc.shape[1]\n",
    "  mfcc = np.pad(mfcc, pad_width=((0, 0), (0, pad_width)), mode='constant')\n",
    "  return mfcc\n",
    "\n",
    "def wav2mfcc(file_path, fn, max_pad=60):\n",
    "  \"\"\" \n",
    "  Robot audio files are in .wav form and require some data augmentation\n",
    "  1. Load files with PyDub \n",
    "  2. Cut mic noise from first 0.05s\n",
    "  3. Increase volume\n",
    "  4. Add fade in/fade out\n",
    "  5. Export as .wav files\n",
    "  6. Load files with librosa\n",
    "  7. Compute MFCC\n",
    "  8. Pad MFCC\n",
    "  \"\"\"\n",
    "  audio = AudioSegment.from_wav(file_path + '/' + fn)\n",
    "  audio = audio[50:] # cut mic noise in first 0.05s\n",
    "  audio += 15 # increase volume (dB)\n",
    "  audio = audio.fade_in(250).fade_out(250) # 0.25s fade in and fade out\n",
    "  \n",
    "  fn_new = fn[:-4] + '_aug.wav' # edit filename and export\n",
    "  audio.export(file_path + '/' + fn_new, 'wav')\n",
    "\n",
    "  audio, sample_rate = librosa.core.load(file_path + '/' + fn_new) # load edited file with librosa\n",
    "  audio = audio[::3] \n",
    "  audio = librosa.effects.pitch_shift(audio, sr=sample_rate, n_steps = -20, bins_per_octave=12) # pitch down (12 steps per octive)\n",
    "  \n",
    "  mfcc = librosa.feature.mfcc(y=audio, sr=sample_rate, n_mfcc=60)\n",
    "  pad_width = max_pad - mfcc.shape[1]\n",
    "  mfcc = np.pad(mfcc, pad_width=((0, 0), (0, pad_width)), mode='constant')\n",
    "  return mfcc"
   ]
  },
  {
   "cell_type": "code",
   "execution_count": 57,
   "metadata": {},
   "outputs": [
    {
     "name": "stdout",
     "output_type": "stream",
     "text": [
      "mfccs_human.shape: (4500, 60, 60)\n"
     ]
    }
   ],
   "source": [
    "# load data from Tone Perfect\n",
    "# 205 monosyllabic sounds in Mandarin Chinese * 4 tones * 6 speakers = 4,920 audio files (half of Tone Perfect database)\n",
    "mfccs_human = []\n",
    "counter = 0\n",
    "for f in os.listdir(file_path1):\n",
    "  if (f.endswith('.mp3')) and (counter < 4920):\n",
    "    mfccs_human.append(mp3tomfcc(file_path1 + '/' + f, 60)) \n",
    "    counter += 1 \n",
    "\n",
    "mfccs_h = np.asarray(mfccs_human)\n",
    "print(f'mfccs_human.shape: {mfccs_h.shape}')"
   ]
  },
  {
   "cell_type": "code",
   "execution_count": 87,
   "metadata": {},
   "outputs": [
    {
     "name": "stdout",
     "output_type": "stream",
     "text": [
      "mfccs_robot.shape: (1120, 60, 60)\n"
     ]
    }
   ],
   "source": [
    "# load data from robot\n",
    "mfccs_robot = []\n",
    "counter = 0  \n",
    "for f in os_sorted(os.listdir(file_path2)): # natural sorting \n",
    "  if (f.endswith('.wav')) and (counter < 10000): # arbitrary large counter number if using whole dataset \n",
    "    mfccs_robot.append(wav2mfcc(file_path2, f, 60))\n",
    "    counter += 1\n",
    "\n",
    "mfccs_r = np.asarray(mfccs_robot)\n",
    "print(f'mfccs_robot.shape: {mfccs_r.shape}')"
   ]
  },
  {
   "cell_type": "code",
   "execution_count": 88,
   "metadata": {
    "colab": {
     "base_uri": "https://localhost:8080/"
    },
    "id": "dkKD9-G83TSt",
    "outputId": "85230f68-e0af-44f5-8571-e4c25775ba24"
   },
   "outputs": [],
   "source": [
    "# Save MFCC's \n",
    "np.save('mfccs_half_human.npy', mfccs_human)\n",
    "np.save('mfccs_robot.npy', mfccs_robot)"
   ]
  },
  {
   "cell_type": "code",
   "execution_count": 2,
   "metadata": {},
   "outputs": [
    {
     "name": "stdout",
     "output_type": "stream",
     "text": [
      "mfccs_human.shape: (4500, 60, 60)\n",
      "mfccs_robot.shape: (1120, 60, 60)\n"
     ]
    }
   ],
   "source": [
    "# Load MFCC's from saved files\n",
    "mfccs_human = np.load('mfccs_half_human.npy').tolist()\n",
    "mfccs_human = np.asarray(mfccs_human)\n",
    "\n",
    "mfccs_robot = np.load('mfccs_robot.npy').tolist()\n",
    "mfccs_robot = np.asarray(mfccs_robot)\n",
    "\n",
    "print(f'mfccs_human.shape: {mfccs_human.shape}')\n",
    "print(f'mfccs_robot.shape: {mfccs_robot.shape}')"
   ]
  },
  {
   "cell_type": "markdown",
   "metadata": {},
   "source": [
    "## **Load Labels**"
   ]
  },
  {
   "cell_type": "code",
   "execution_count": 113,
   "metadata": {
    "id": "HeXM96SX5AkN"
   },
   "outputs": [
    {
     "name": "stdout",
     "output_type": "stream",
     "text": [
      "# of files for Class 1: 1128\n",
      "# of files for Class 2: 1128\n",
      "# of files for Class 3: 1122\n",
      "# of files for Class 4: 1122\n"
     ]
    }
   ],
   "source": [
    "# Gather all labels for male and female speakers (1-4 for each of the four tones)\n",
    "labels_human = []\n",
    "counter = 0\n",
    "for f in os.listdir(file_path1):\n",
    "  if (f.endswith('.mp3')) and (counter < 4500):    \n",
    "    label = f.split('_')[0][-1] # label is the last character before the first '_'\n",
    "    labels_human.append(label)\n",
    "    counter += 1\n",
    "\n",
    "labels_human = np.array(labels_human)\n",
    "print(f\"# of files for Class 1: {(np.where(labels_human == '1')[0].size)}\")\n",
    "print(f\"# of files for Class 2: {(np.where(labels_human == '2')[0].size)}\")\n",
    "print(f\"# of files for Class 3: {(np.where(labels_human == '3')[0].size)}\")\n",
    "print(f\"# of files for Class 4: {(np.where(labels_human == '4')[0].size)}\")\n",
    "\n",
    "labels_human = keras.utils.to_categorical(labels_human, num_classes=None) # one-hot encoding "
   ]
  },
  {
   "cell_type": "code",
   "execution_count": 114,
   "metadata": {},
   "outputs": [
    {
     "name": "stdout",
     "output_type": "stream",
     "text": [
      "# of files for Class 1: 280\n",
      "# of files for Class 2: 280\n",
      "# of files for Class 3: 280\n",
      "# of files for Class 4: 280\n",
      "# of files for Class 5: 0\n"
     ]
    }
   ],
   "source": [
    "# Gather all labels for robot\n",
    "labels_robot = []\n",
    "counter = 0\n",
    "labels_robot_arr = np.loadtxt(\"labels.csv\", delimiter=\",\", dtype=str)\n",
    "for i in range(0, labels_robot_arr.size):\n",
    "    if labels_robot_arr[i] == 'HighLevel': # high level tone \n",
    "        labels_robot.append('1')\n",
    "    elif labels_robot_arr[i] == 'Rise':\n",
    "        labels_robot.append('2')\n",
    "    elif labels_robot_arr[i] == 'Dip':\n",
    "        labels_robot.append('3')\n",
    "    elif labels_robot_arr[i] == 'Fall':\n",
    "        labels_robot.append('4')\n",
    "    else:\n",
    "        labels_robot.append('5') # will remove and ignore any file not labeled as one of the above tones \n",
    "\n",
    "labels_robot = np.array(labels_robot)\n",
    "print(f\"# of files for Class 1: {(np.where(labels_robot == '1')[0].size)}\")\n",
    "print(f\"# of files for Class 2: {(np.where(labels_robot == '2')[0].size)}\")\n",
    "print(f\"# of files for Class 3: {(np.where(labels_robot == '3')[0].size)}\")\n",
    "print(f\"# of files for Class 4: {(np.where(labels_robot == '4')[0].size)}\")\n",
    "print(f\"# of files for Class 5: {(np.where(labels_robot == '5')[0].size)}\")\n",
    "\n",
    "labels_robot = keras.utils.to_categorical(labels_robot, num_classes=None) # one-hot encoding"
   ]
  },
  {
   "cell_type": "code",
   "execution_count": 63,
   "metadata": {
    "colab": {
     "base_uri": "https://localhost:8080/"
    },
    "id": "i2wwhl2_5dWu",
    "outputId": "e75dc396-b480-4305-8cbb-6c92b41930a3"
   },
   "outputs": [
    {
     "name": "stdout",
     "output_type": "stream",
     "text": [
      "Human Voice Label Vector Shape: (4500, 5)\n",
      "Human Voice Label Vector Preview:\n",
      "[[0. 1. 0. 0. 0.]\n",
      " [0. 1. 0. 0. 0.]\n",
      " [0. 1. 0. 0. 0.]\n",
      " [0. 1. 0. 0. 0.]\n",
      " [0. 1. 0. 0. 0.]]\n",
      "\n",
      "\n",
      "Robot Voice Label Vector Shape: (1120, 5)\n",
      "Robot Voice Label Vector Preview:\n",
      "[[0. 1. 0. 0. 0.]\n",
      " [0. 1. 0. 0. 0.]\n",
      " [0. 1. 0. 0. 0.]\n",
      " [0. 1. 0. 0. 0.]\n",
      " [0. 1. 0. 0. 0.]]\n"
     ]
    }
   ],
   "source": [
    "print(f\"Human Voice Label Vector Shape: {labels_human.shape}\")\n",
    "print(f\"Human Voice Label Vector Preview:\\n{labels_human[:5,:]}\\n\\n\")\n",
    "\n",
    "print(f\"Robot Voice Label Vector Shape: {labels_robot.shape}\")\n",
    "print(f\"Robot Voice Label Vector Preview:\\n{labels_robot[:5,:]}\")"
   ]
  },
  {
   "cell_type": "code",
   "execution_count": 64,
   "metadata": {
    "id": "m2uHzOdd5YT3"
   },
   "outputs": [],
   "source": [
    "# save labels \n",
    "np.save('labels_half_human.npy', labels_human)\n",
    "np.save('labels_robot.npy', labels_robot)"
   ]
  },
  {
   "cell_type": "code",
   "execution_count": 3,
   "metadata": {},
   "outputs": [],
   "source": [
    "# load labels \n",
    "labels_human = np.load('labels_half_human.npy')\n",
    "labels_robot = np.load('labels_robot.npy')"
   ]
  },
  {
   "cell_type": "markdown",
   "metadata": {},
   "source": [
    "## **Build Model**"
   ]
  },
  {
   "cell_type": "code",
   "execution_count": 4,
   "metadata": {
    "colab": {
     "base_uri": "https://localhost:8080/"
    },
    "id": "EplVGj-mnwns",
    "outputId": "5b98a7ae-fcf5-4dd7-86bc-b104a5bf0cfe"
   },
   "outputs": [],
   "source": [
    "import tensorflow as tf\n",
    "from keras.layers import Dense, Dropout, Flatten, Conv2D, MaxPooling2D, BatchNormalization\n",
    "from sklearn.model_selection import train_test_split\n",
    "from keras.datasets import mnist\n",
    "from keras.models import Sequential\n",
    "from keras.layers.core import Dense, Dropout, Activation, Flatten\n",
    "from keras.layers.convolutional import Convolution2D, MaxPooling2D\n",
    "from keras.utils import np_utils\n",
    "from keras.utils import to_categorical\n",
    "\n",
    "def get_cnn_model(input_shape, num_classes):\n",
    "    model = Sequential()\n",
    "    model.add(Conv2D(32, kernel_size=(2, 2), activation='relu', input_shape=input_shape))\n",
    "    model.add(BatchNormalization())\n",
    "    model.add(Conv2D(48, kernel_size=(2, 2), activation='relu'))\n",
    "    model.add(BatchNormalization())\n",
    "    model.add(Conv2D(120, kernel_size=(2, 2), activation='relu'))\n",
    "    model.add(BatchNormalization())\n",
    "    model.add(MaxPooling2D(pool_size=(2, 2)))\n",
    "    model.add(Dropout(0.25))\n",
    "    model.add(Flatten())\n",
    "    model.add(Dense(128, activation='relu'))\n",
    "    model.add(Dropout(0.25))\n",
    "    model.add(Dense(64, activation='relu'))\n",
    "    model.add(Dropout(0.4)) # taking care of generalization \n",
    "    model.add(Dense(num_classes, activation='softmax'))\n",
    "    model.compile(loss=keras.losses.categorical_crossentropy,  \n",
    "                  optimizer=keras.optimizers.Adadelta(learning_rate=0.0001),\n",
    "                  metrics=['accuracy'])\n",
    "    return model"
   ]
  },
  {
   "cell_type": "markdown",
   "metadata": {
    "id": "Zq9NcVMIeWeJ"
   },
   "source": [
    "## **Training and Testing** "
   ]
  },
  {
   "cell_type": "code",
   "execution_count": 6,
   "metadata": {},
   "outputs": [
    {
     "name": "stdout",
     "output_type": "stream",
     "text": [
      "(1120, 60, 60)\n",
      "(1120, 60, 60, 1)\n",
      "(896, 60, 60, 1)\n"
     ]
    }
   ],
   "source": [
    "#sklearn train_test_split used only if training and testing on either all human voice or robot audio files\n",
    " \n",
    "dim_1 = mfccs_robot.shape[1]\n",
    "dim_2 = mfccs_robot.shape[2]\n",
    "channels = 1\n",
    "classes = 5\n",
    "\n",
    "X = mfccs_robot\n",
    "print(X.shape)\n",
    "X = X.reshape((mfccs_robot.shape[0], dim_1, dim_2, channels))\n",
    "print(X.shape)\n",
    "y = labels_robot\n",
    "input_shape = (dim_1, dim_2, channels)\n",
    "\n",
    "X_train, X_test, y_train, y_test = train_test_split(X, y, test_size=0.2, random_state=1)\n",
    "print(X_train.shape)\n",
    "\n"
   ]
  },
  {
   "cell_type": "code",
   "execution_count": 118,
   "metadata": {},
   "outputs": [
    {
     "name": "stdout",
     "output_type": "stream",
     "text": [
      "X_train.shape: (4500, 60, 60)\n",
      "X_train.shape (reshaped): (4500, 60, 60, 1)\n",
      "y_train.shape: (4500, 5)\n"
     ]
    }
   ],
   "source": [
    "# Define X_train and y_train as human audio files  \n",
    "\"\"\"  \n",
    "dim_1 = mfccs_human.shape[1]\n",
    "dim_2 = mfccs_human.shape[2]\n",
    "channels = 1\n",
    "classes = 5\n",
    "\n",
    "X_train = mfccs_human\n",
    "print(f'X_train.shape: {X_train.shape}')\n",
    "X_train = X_train.reshape((mfccs_human.shape[0], dim_1, dim_2, channels))\n",
    "print(f'X_train.shape (reshaped): {X_train.shape}')\n",
    "y_train = labels_human\n",
    "input_shape = (dim_1, dim_2, channels)\n",
    "\n",
    "print(f'y_train.shape: {y_train.shape}')\n",
    "\"\"\""
   ]
  },
  {
   "cell_type": "code",
   "execution_count": 22,
   "metadata": {},
   "outputs": [
    {
     "data": {
      "text/plain": [
       "\"\\nfrom sklearn.utils import class_weight\\ny_ints = [y.argmax() for y in y_train]\\n\\nclass_weights = class_weight.compute_class_weight(class_weight='balanced', classes=np.unique(y_ints), y=y_ints)\\nclass_weights_dict = dict(zip(np.unique(y_ints), class_weights))\\n\\nhistory = model.fit(X_train, y_train, batch_size=20, epochs=15, verbose=1, validation_split=0.2, class_weight=class_weight_dict)\\n\""
      ]
     },
     "execution_count": 22,
     "metadata": {},
     "output_type": "execute_result"
    }
   ],
   "source": [
    " \n",
    "# dealing with unequal class sizes \n",
    "\"\"\"\n",
    "from sklearn.utils import class_weight\n",
    "y_ints = [y.argmax() for y in y_train]\n",
    "\n",
    "class_weights = class_weight.compute_class_weight(class_weight='balanced', classes=np.unique(y_ints), y=y_ints)\n",
    "class_weights_dict = dict(zip(np.unique(y_ints), class_weights))\n",
    "\n",
    "history = model.fit(X_train, y_train, batch_size=20, epochs=15, verbose=1, validation_split=0.2, class_weight=class_weight_dict)\n",
    "\"\"\""
   ]
  },
  {
   "cell_type": "code",
   "execution_count": 7,
   "metadata": {},
   "outputs": [
    {
     "name": "stdout",
     "output_type": "stream",
     "text": [
      "Model: \"sequential\"\n",
      "_________________________________________________________________\n",
      " Layer (type)                Output Shape              Param #   \n",
      "=================================================================\n",
      " conv2d (Conv2D)             (None, 59, 59, 32)        160       \n",
      "                                                                 \n",
      " batch_normalization (BatchN  (None, 59, 59, 32)       128       \n",
      " ormalization)                                                   \n",
      "                                                                 \n",
      " conv2d_1 (Conv2D)           (None, 58, 58, 48)        6192      \n",
      "                                                                 \n",
      " batch_normalization_1 (Batc  (None, 58, 58, 48)       192       \n",
      " hNormalization)                                                 \n",
      "                                                                 \n",
      " conv2d_2 (Conv2D)           (None, 57, 57, 120)       23160     \n",
      "                                                                 \n",
      " batch_normalization_2 (Batc  (None, 57, 57, 120)      480       \n",
      " hNormalization)                                                 \n",
      "                                                                 \n",
      " max_pooling2d (MaxPooling2D  (None, 28, 28, 120)      0         \n",
      " )                                                               \n",
      "                                                                 \n",
      " dropout (Dropout)           (None, 28, 28, 120)       0         \n",
      "                                                                 \n",
      " flatten (Flatten)           (None, 94080)             0         \n",
      "                                                                 \n",
      " dense (Dense)               (None, 128)               12042368  \n",
      "                                                                 \n",
      " dropout_1 (Dropout)         (None, 128)               0         \n",
      "                                                                 \n",
      " dense_1 (Dense)             (None, 64)                8256      \n",
      "                                                                 \n",
      " dropout_2 (Dropout)         (None, 64)                0         \n",
      "                                                                 \n",
      " dense_2 (Dense)             (None, 5)                 325       \n",
      "                                                                 \n",
      "=================================================================\n",
      "Total params: 12,081,261\n",
      "Trainable params: 12,080,861\n",
      "Non-trainable params: 400\n",
      "_________________________________________________________________\n",
      "None\n"
     ]
    }
   ],
   "source": [
    "model = get_cnn_model(input_shape, classes)\n",
    "print(model.summary())"
   ]
  },
  {
   "cell_type": "code",
   "execution_count": 8,
   "metadata": {},
   "outputs": [
    {
     "name": "stdout",
     "output_type": "stream",
     "text": [
      "Epoch 1/30\n",
      "36/36 [==============================] - 6s 138ms/step - loss: 2.8418 - accuracy: 0.2402 - val_loss: 1.5110 - val_accuracy: 0.2611\n",
      "Epoch 2/30\n",
      "36/36 [==============================] - 6s 164ms/step - loss: 2.7488 - accuracy: 0.2542 - val_loss: 1.4993 - val_accuracy: 0.2722\n",
      "Epoch 3/30\n",
      "36/36 [==============================] - 6s 175ms/step - loss: 2.6993 - accuracy: 0.2612 - val_loss: 1.4865 - val_accuracy: 0.2889\n",
      "Epoch 4/30\n",
      "36/36 [==============================] - 8s 228ms/step - loss: 2.4387 - accuracy: 0.2709 - val_loss: 1.4714 - val_accuracy: 0.2722\n",
      "Epoch 5/30\n",
      "36/36 [==============================] - 8s 222ms/step - loss: 2.3882 - accuracy: 0.2821 - val_loss: 1.4523 - val_accuracy: 0.2667\n",
      "Epoch 6/30\n",
      "36/36 [==============================] - 8s 218ms/step - loss: 2.3430 - accuracy: 0.2947 - val_loss: 1.4278 - val_accuracy: 0.2833\n",
      "Epoch 7/30\n",
      "36/36 [==============================] - 8s 231ms/step - loss: 2.3695 - accuracy: 0.2682 - val_loss: 1.4028 - val_accuracy: 0.3111\n",
      "Epoch 8/30\n",
      "36/36 [==============================] - 8s 216ms/step - loss: 2.2910 - accuracy: 0.2835 - val_loss: 1.3786 - val_accuracy: 0.3389\n",
      "Epoch 9/30\n",
      "36/36 [==============================] - 8s 215ms/step - loss: 2.1813 - accuracy: 0.2961 - val_loss: 1.3558 - val_accuracy: 0.3333\n",
      "Epoch 10/30\n",
      "36/36 [==============================] - 8s 224ms/step - loss: 2.2328 - accuracy: 0.2737 - val_loss: 1.3329 - val_accuracy: 0.3278\n",
      "Epoch 11/30\n",
      "36/36 [==============================] - 8s 219ms/step - loss: 2.2112 - accuracy: 0.2570 - val_loss: 1.3163 - val_accuracy: 0.3778\n",
      "Epoch 12/30\n",
      "36/36 [==============================] - 7s 199ms/step - loss: 2.0619 - accuracy: 0.3156 - val_loss: 1.2989 - val_accuracy: 0.3722\n",
      "Epoch 13/30\n",
      "36/36 [==============================] - 8s 221ms/step - loss: 2.0728 - accuracy: 0.3087 - val_loss: 1.2832 - val_accuracy: 0.3944\n",
      "Epoch 14/30\n",
      "36/36 [==============================] - 6s 156ms/step - loss: 1.9832 - accuracy: 0.2933 - val_loss: 1.2680 - val_accuracy: 0.4056\n",
      "Epoch 15/30\n",
      "36/36 [==============================] - 8s 217ms/step - loss: 2.0457 - accuracy: 0.3156 - val_loss: 1.2552 - val_accuracy: 0.4167\n",
      "Epoch 16/30\n",
      "36/36 [==============================] - 7s 201ms/step - loss: 2.0740 - accuracy: 0.3003 - val_loss: 1.2457 - val_accuracy: 0.4056\n",
      "Epoch 17/30\n",
      "36/36 [==============================] - 6s 176ms/step - loss: 2.0481 - accuracy: 0.2835 - val_loss: 1.2334 - val_accuracy: 0.4222\n",
      "Epoch 18/30\n",
      "36/36 [==============================] - 6s 176ms/step - loss: 2.0372 - accuracy: 0.2779 - val_loss: 1.2270 - val_accuracy: 0.4111\n",
      "Epoch 19/30\n",
      "36/36 [==============================] - 6s 166ms/step - loss: 1.9367 - accuracy: 0.3059 - val_loss: 1.2169 - val_accuracy: 0.4222\n",
      "Epoch 20/30\n",
      "36/36 [==============================] - 7s 201ms/step - loss: 1.9048 - accuracy: 0.3045 - val_loss: 1.2053 - val_accuracy: 0.4389\n",
      "Epoch 21/30\n",
      "36/36 [==============================] - 7s 200ms/step - loss: 1.8234 - accuracy: 0.3324 - val_loss: 1.1936 - val_accuracy: 0.4389\n",
      "Epoch 22/30\n",
      "36/36 [==============================] - 8s 212ms/step - loss: 1.8419 - accuracy: 0.3115 - val_loss: 1.1845 - val_accuracy: 0.4444\n",
      "Epoch 23/30\n",
      "36/36 [==============================] - 7s 206ms/step - loss: 1.8127 - accuracy: 0.3310 - val_loss: 1.1758 - val_accuracy: 0.4556\n",
      "Epoch 24/30\n",
      "36/36 [==============================] - 8s 209ms/step - loss: 1.8587 - accuracy: 0.3101 - val_loss: 1.1676 - val_accuracy: 0.4778\n",
      "Epoch 25/30\n",
      "36/36 [==============================] - 8s 221ms/step - loss: 1.8144 - accuracy: 0.3268 - val_loss: 1.1587 - val_accuracy: 0.4944\n",
      "Epoch 26/30\n",
      "36/36 [==============================] - 8s 226ms/step - loss: 1.7269 - accuracy: 0.3492 - val_loss: 1.1514 - val_accuracy: 0.5056\n",
      "Epoch 27/30\n",
      "36/36 [==============================] - 8s 229ms/step - loss: 1.7731 - accuracy: 0.3352 - val_loss: 1.1455 - val_accuracy: 0.5167\n",
      "Epoch 28/30\n",
      "36/36 [==============================] - 9s 253ms/step - loss: 1.7649 - accuracy: 0.3184 - val_loss: 1.1434 - val_accuracy: 0.5167\n",
      "Epoch 29/30\n",
      "36/36 [==============================] - 10s 272ms/step - loss: 1.7863 - accuracy: 0.3156 - val_loss: 1.1358 - val_accuracy: 0.5111\n",
      "Epoch 30/30\n",
      "36/36 [==============================] - 10s 274ms/step - loss: 1.7748 - accuracy: 0.3380 - val_loss: 1.1298 - val_accuracy: 0.5556\n"
     ]
    }
   ],
   "source": [
    "# train \n",
    "history = model.fit(X_train, y_train, batch_size=20, epochs=50, verbose=1, validation_split=0.2) "
   ]
  },
  {
   "cell_type": "markdown",
   "metadata": {
    "id": "7KOHT-d-eiX4"
   },
   "source": [
    "## **Evaluation of Model Performance**"
   ]
  },
  {
   "cell_type": "code",
   "execution_count": 9,
   "metadata": {},
   "outputs": [
    {
     "data": {
      "image/png": "[encoded data removed]",
      "text/plain": [
       "<Figure size 800x400 with 1 Axes>"
      ]
     },
     "metadata": {},
     "output_type": "display_data"
    }
   ],
   "source": [
    "plt.figure(figsize=(8, 4))\n",
    "plt.plot(history.history['loss'], color='#146C78')\n",
    "plt.plot(history.history['val_loss'], color='#f3b54a')\n",
    "plt.title('Loss vs. Epoch\\n learning rate = 0.0001 epochs = 30')\n",
    "plt.ylabel('loss')\n",
    "plt.xlabel('epoch')\n",
    "plt.legend(['train', 'test'], loc='upper left')\n",
    "plt.show()"
   ]
  },
  {
   "cell_type": "code",
   "execution_count": 108,
   "metadata": {},
   "outputs": [
    {
     "name": "stdout",
     "output_type": "stream",
     "text": [
      "X_test.shape: (1120, 60, 60)\n",
      "X_test.shape (rehsaped): (1120, 60, 60, 1)\n",
      "y_test.shape: (1120, 5)\n"
     ]
    }
   ],
   "source": [
    "# Define X_test and y_test manually \n",
    " \"\"\" \n",
    "dim_1 = mfccs_robot.shape[1]\n",
    "dim_2 = mfccs_robot.shape[2]\n",
    "channels = 1\n",
    "classes = 5\n",
    "\n",
    "X_test = mfccs_robot\n",
    "print(f'X_test.shape: {X_test.shape}')\n",
    "X_test = X_test.reshape((mfccs_robot.shape[0], dim_1, dim_2, channels))\n",
    "print(f'X_test.shape (rehsaped): {X_test.shape}')\n",
    "y_test = labels_robot\n",
    "\n",
    "print(f'y_test.shape: {y_test.shape}')\n",
    "\"\"\""
   ]
  },
  {
   "cell_type": "code",
   "execution_count": 127,
   "metadata": {
    "colab": {
     "base_uri": "https://localhost:8080/"
    },
    "id": "jtROhFC5gXDG",
    "outputId": "0cb894fa-2998-477f-8094-77afbdf03084"
   },
   "outputs": [
    {
     "name": "stdout",
     "output_type": "stream",
     "text": [
      "75/75 [==============================] - 1s 13ms/step - loss: 1.2314 - accuracy: 0.5893\n"
     ]
    }
   ],
   "source": [
    "# evaluate model\n",
    "test_metrics = model.evaluate(X_test, y_test, batch_size = 3, verbose = 1)"
   ]
  },
  {
   "cell_type": "code",
   "execution_count": 103,
   "metadata": {
    "colab": {
     "base_uri": "https://localhost:8080/"
    },
    "id": "MSMlIgj8lHtB",
    "outputId": "c9c3c063-773d-4b1b-a3bd-f6949b685dcf"
   },
   "outputs": [
    {
     "name": "stdout",
     "output_type": "stream",
     "text": [
      "299/299 [==============================] - 4s 12ms/step - loss: 0.0742 - accuracy: 0.9788\n"
     ]
    },
    {
     "data": {
      "text/plain": [
       "[0.07424296438694, 0.9787946343421936]"
      ]
     },
     "execution_count": 103,
     "metadata": {},
     "output_type": "execute_result"
    }
   ],
   "source": [
    "# evaluate model on training\n",
    "model.evaluate(X_train, y_train, batch_size = 3, verbose = 1)"
   ]
  },
  {
   "cell_type": "code",
   "execution_count": 143,
   "metadata": {
    "colab": {
     "base_uri": "https://localhost:8080/"
    },
    "id": "eSEDj_Ck3pPA",
    "outputId": "a88c9928-4b69-4f2e-fb29-3690a560528a"
   },
   "outputs": [
    {
     "name": "stdout",
     "output_type": "stream",
     "text": [
      "7/7 [==============================] - 0s 51ms/step\n",
      "7/7 [==============================] - 0s 51ms/step\n"
     ]
    }
   ],
   "source": [
    "# Evaluation metrics from scikit learn\n",
    "import sklearn.metrics as metrics\n",
    "\n",
    "y_pred = model.predict(X_test).ravel()\n",
    "y_pred_ohe = model.predict(X_test)\n",
    "y_pred_labels = np.argmax(y_pred_ohe, axis=1)  # only necessary if output has one-hot-encoding, shape=(n_samples)\n",
    "\n",
    "y_true_labels = np.argmax(y_test, axis=1)\n",
    "\n",
    "# save labels\n",
    "np.save('y_pred_labels.npy', y_pred_labels)\n",
    "np.save('y_true_labels.npy', y_true_labels)\n",
    "\n",
    "#confusion_matrix = metrics.confusion_matrix(y_true=y_true_labels, y_pred=y_pred_labels)\n",
    "#print(confusion_matrix)"
   ]
  },
  {
   "cell_type": "code",
   "execution_count": 202,
   "metadata": {},
   "outputs": [
    {
     "name": "stdout",
     "output_type": "stream",
     "text": [
      "Sum of first row probabilities: 0.9999999403953552\n",
      "Sum of second row probabilities: 0.9999998807907104\n",
      "y_pred.shape: (703, 5)\n"
     ]
    },
    {
     "data": {
      "text/plain": [
       "3"
      ]
     },
     "execution_count": 202,
     "metadata": {},
     "output_type": "execute_result"
    }
   ],
   "source": [
    "# finding high probability classes\n",
    "print(f'Sum of first row probabilities: {np.sum(y_pred_ohe[0,:])}')\n",
    "print(f'Sum of second row probabilities: {np.sum(y_pred_ohe[1,:])}')\n",
    "print(f'y_pred.shape: {y_pred_ohe.shape}')\n",
    "\n",
    "y_true_labels[np.where(y_pred_ohe > 0.98)[0]] == y_pred_labels[np.where(y_pred_ohe > 0.98)[0]]\n",
    "np.where(y_pred_ohe > 0.98)[0]"
   ]
  },
  {
   "cell_type": "code",
   "execution_count": 204,
   "metadata": {},
   "outputs": [
    {
     "data": {
      "image/png": "[encoded data removed]",
      "text/plain": [
       "<Figure size 400x400 with 1 Axes>"
      ]
     },
     "metadata": {},
     "output_type": "display_data"
    },
    {
     "data": {
      "image/png": "[encoded data removed]",
      "text/plain": [
       "<Figure size 400x400 with 1 Axes>"
      ]
     },
     "metadata": {},
     "output_type": "display_data"
    },
    {
     "data": {
      "image/png": "[encoded data removed]",
      "text/plain": [
       "<Figure size 400x400 with 1 Axes>"
      ]
     },
     "metadata": {},
     "output_type": "display_data"
    },
    {
     "data": {
      "image/png": "[encoded data removed]",
      "text/plain": [
       "<Figure size 400x400 with 1 Axes>"
      ]
     },
     "metadata": {},
     "output_type": "display_data"
    }
   ],
   "source": [
    "plt.figure(figsize=(4, 4))\n",
    "plt.imshow(mfccs_robot[211,:,:], aspect='auto')#, cmap=cm.viridis)\n",
    "plt.title('Sample 211: Pred = Dip, True = Rise')\n",
    "plt.show()\n",
    "\n",
    "plt.figure(figsize=(4, 4))\n",
    "plt.imshow(mfccs_robot[264,:,:], aspect='auto')#, cmap=cm.viridis)\n",
    "plt.title('Sample 264: Pred = Dip, True = Rise')\n",
    "plt.show()\n",
    "\n",
    "plt.figure(figsize=(4, 4))\n",
    "plt.imshow(mfccs_robot[611,:,:], aspect='auto')#, cmap=cm.viridis)\n",
    "plt.title('Sample 611: Pred = Dip, True = High Level')\n",
    "plt.show()\n",
    "\n",
    "plt.figure(figsize=(4, 4))\n",
    "plt.imshow(mfccs_robot[667,:,:], aspect='auto')#, cmap=cm.viridis)\n",
    "plt.title('Sample 667: Pred = Dip, True = Rise')\n",
    "plt.show()"
   ]
  },
  {
   "cell_type": "code",
   "execution_count": 144,
   "metadata": {
    "colab": {
     "base_uri": "https://localhost:8080/",
     "height": 415
    },
    "id": "V86-Dvtg8eFb",
    "outputId": "831054c9-7d77-4841-d078-663f500080e7"
   },
   "outputs": [
    {
     "name": "stdout",
     "output_type": "stream",
     "text": [
      "7/7 [==============================] - 0s 52ms/step\n",
      "Confusion matrix, without normalization\n",
      "[[49 11  2  2]\n",
      " [20 37  0  0]\n",
      " [12 16 16  7]\n",
      " [15  2  0 35]]\n"
     ]
    },
    {
     "data": {
      "image/png": "[encoded data removed]",
      "text/plain": [
       "<Figure size 640x480 with 2 Axes>"
      ]
     },
     "metadata": {},
     "output_type": "display_data"
    }
   ],
   "source": [
    "import itertools\n",
    "import matplotlib.pyplot as plt\n",
    "import numpy as np\n",
    "from sklearn.metrics import confusion_matrix\n",
    "\n",
    "y_pred = model.predict(X_test).ravel()\n",
    "\n",
    "y_true_labels = np.argmax(y_test, axis=1)\n",
    "\n",
    "def plot_confusion_matrix(cm, classes,\n",
    "                          normalize=False,\n",
    "                          title='Confusion matrix',\n",
    "                          cmap=plt.cm.Blues):\n",
    "    \"\"\"\n",
    "    This function prints and plots the confusion matrix.\n",
    "    Normalization can be applied by setting `normalize=True`.\n",
    "    \"\"\"\n",
    "    if normalize:\n",
    "        cm = cm.astype('float') / cm.sum(axis=1)[:, np.newaxis]\n",
    "        print(\"Normalized confusion matrix\")\n",
    "    else:\n",
    "        print('Confusion matrix, without normalization')\n",
    "\n",
    "    print(cm)\n",
    "\n",
    "    plt.imshow(cm, interpolation='nearest', cmap=cmap)\n",
    "    plt.title(title)\n",
    "    plt.colorbar()\n",
    "    tick_marks = np.arange(len(classes))\n",
    "    plt.xticks(tick_marks, classes, rotation=45)\n",
    "    plt.yticks(tick_marks, classes)\n",
    "\n",
    "    fmt = '.2f' if normalize else 'd'\n",
    "    thresh = cm.max() / 2.\n",
    "    for i, j in itertools.product(range(cm.shape[0]), range(cm.shape[1])):\n",
    "        plt.text(j, i, format(cm[i, j], fmt),\n",
    "                 horizontalalignment=\"center\",\n",
    "                 color=\"white\" if cm[i, j] > thresh else \"black\")\n",
    "\n",
    "    plt.tight_layout()\n",
    "    plt.ylabel('True label')\n",
    "    plt.xlabel('Predicted label')\n",
    "\n",
    "cm = confusion_matrix(y_true_labels, y_pred_labels)\n",
    "np.set_printoptions(precision=2)\n",
    "\n",
    "plt.figure()\n",
    "plot_confusion_matrix(cm, classes=[1, 2, 3, 4],\n",
    "                      title='Confusion Matrix')"
   ]
  },
  {
   "cell_type": "code",
   "execution_count": 95,
   "metadata": {
    "id": "I1lqwLamhyEs"
   },
   "outputs": [
    {
     "ename": "KeyError",
     "evalue": "'acc'",
     "output_type": "error",
     "traceback": [
      "\u001b[1;31m---------------------------------------------------------------------------\u001b[0m",
      "\u001b[1;31mKeyError\u001b[0m                                  Traceback (most recent call last)",
      "\u001b[1;32mc:\\Users\\charl\\AIML\\Project\\Mandarin_Tone_Classification.ipynb Cell 41\u001b[0m in \u001b[0;36m<cell line: 2>\u001b[1;34m()\u001b[0m\n\u001b[0;32m      <a href='vscode-notebook-cell:/c%3A/Users/charl/AIML/Project/Mandarin_Tone_Classification.ipynb#X54sZmlsZQ%3D%3D?line=0'>1</a>\u001b[0m \u001b[39m# summarize history for accuracy\u001b[39;00m\n\u001b[1;32m----> <a href='vscode-notebook-cell:/c%3A/Users/charl/AIML/Project/Mandarin_Tone_Classification.ipynb#X54sZmlsZQ%3D%3D?line=1'>2</a>\u001b[0m plt\u001b[39m.\u001b[39mplot(history\u001b[39m.\u001b[39;49mhistory[\u001b[39m'\u001b[39;49m\u001b[39macc\u001b[39;49m\u001b[39m'\u001b[39;49m])\n\u001b[0;32m      <a href='vscode-notebook-cell:/c%3A/Users/charl/AIML/Project/Mandarin_Tone_Classification.ipynb#X54sZmlsZQ%3D%3D?line=2'>3</a>\u001b[0m plt\u001b[39m.\u001b[39mplot(history\u001b[39m.\u001b[39mhistory[\u001b[39m'\u001b[39m\u001b[39mval_acc\u001b[39m\u001b[39m'\u001b[39m])\n\u001b[0;32m      <a href='vscode-notebook-cell:/c%3A/Users/charl/AIML/Project/Mandarin_Tone_Classification.ipynb#X54sZmlsZQ%3D%3D?line=3'>4</a>\u001b[0m plt\u001b[39m.\u001b[39mtitle(\u001b[39m'\u001b[39m\u001b[39mModel Accuracy\u001b[39m\u001b[39m'\u001b[39m)\n",
      "\u001b[1;31mKeyError\u001b[0m: 'acc'"
     ]
    }
   ],
   "source": [
    "# summarize history for accuracy\n",
    "plt.plot(history.history['acc'])\n",
    "plt.plot(history.history['val_acc'])\n",
    "plt.title('Model Accuracy')\n",
    "plt.ylabel('accuracy')\n",
    "plt.xlabel('epoch')\n",
    "plt.legend(['train', 'test'], loc='upper left')\n",
    "plt.show()\n",
    "# summarize history for loss\n",
    "plt.plot(history.history['loss'])\n",
    "plt.plot(history.history['val_loss'])\n",
    "plt.title('Model Loss')\n",
    "plt.ylabel('loss')\n",
    "plt.xlabel('epoch')\n",
    "plt.legend(['train', 'test'], loc='upper left')\n",
    "plt.show()"
   ]
  }
 ],
 "metadata": {
  "accelerator": "GPU",
  "colab": {
   "collapsed_sections": [],
   "provenance": []
  },
  "gpuClass": "standard",
  "kernelspec": {
   "display_name": "Python 3.9.12 ('cve')",
   "language": "python",
   "name": "python3"
  },
  "language_info": {
   "codemirror_mode": {
    "name": "ipython",
    "version": 3
   },
   "file_extension": ".py",
   "mimetype": "text/x-python",
   "name": "python",
   "nbconvert_exporter": "python",
   "pygments_lexer": "ipython3",
   "version": "3.9.12"
  },
  "vscode": {
   "interpreter": {
    "hash": "6c73f5850b11ba99e79e5d67aba32eb5cf2f4f9d1808634dfe0cc72b858a02a7"
   }
  }
 },
 "nbformat": 4,
 "nbformat_minor": 1
}
